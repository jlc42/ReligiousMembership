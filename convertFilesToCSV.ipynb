{
 "cells": [
  {
   "cell_type": "code",
   "execution_count": 2,
   "id": "talented-strategy",
   "metadata": {},
   "outputs": [],
   "source": [
    "#Convert 2005-2010 for Clint Kimball\n",
    "import pandas as pd"
   ]
  },
  {
   "cell_type": "code",
   "execution_count": 4,
   "id": "bulgarian-texas",
   "metadata": {},
   "outputs": [
    {
     "name": "stdout",
     "output_type": "stream",
     "text": [
      "converting CCES 2008\n",
      "converting CCES 2009\n",
      "converting CCES 2010\n"
     ]
    },
    {
     "data": {
      "text/plain": [
       "'\\n\\ncces2009df = pd.read_stata(\\'CCESData/cces09_cmn_output_2.dta\\')\\nprint(\"reading CCES 2010\")\\ncces2010df = pd.read_stata(\\'CCESData/CCES10_common_validated.dta\\')\\ncces2011df = pd.read_stata(\\'CCESData/CCES11_Common_OUTPUT.dta\\')\\nprint(\"reading CCES 2012\")\\ncces2012df = pd.read_stata(\\'CCESData/CCES12_Common_VV.dta\\')\\ncces2013df = pd.read_stata(\\'CCESData/CCES13_Common_Content_Data.dta\\')\\nprint(\"reading CCES 2014\")\\ncces2014df = pd.read_stata(\\'CCESData/CCES14_Common_Content_Validated.dta\\')\\ncces2015df = pd.read_stata(\\'CCESData/CCES15_Common_OUTPUT_Jan2016.dta\\')\\nprint(\"reading CCES 2016\")\\ncces2016df = pd.read_stata(\\'CCESData/CCES16_Common_OUTPUT_Feb2018_VV.dta\\')\\ncces2017df = pd.read_stata(\\'CCESData/CCES17_Common_Content_Data.dta\\')\\nprint(\"reading CCES 2018\")\\ncces2018df = pd.read_stata(\\'CCESData/cces18_common_vv.dta\\')\\ncces2019df = pd.read_stata(\\'CCESData/CCES19_Common_OUTPUT.dta\\')\\nprint(\"reading CCES 2020\")\\ncces2020df = pd.read_stata(\\'CCESData/CCES20_Common_OUTPUT.dta\\')\\n\\n'"
      ]
     },
     "execution_count": 4,
     "metadata": {},
     "output_type": "execute_result"
    }
   ],
   "source": [
    "print(\"converting CCES 2008\")\n",
    "cces2008df = pd.read_stata('CCESData/CCES08_common.dta')\n",
    "cces2008df.to_csv(r'CCESData/CCES08_common.csv')\n",
    "del(cces2008df)\n",
    "\n",
    "print(\"converting CCES 2009\")\n",
    "cces2009df = pd.read_stata('CCESData/cces09_cmn_output_2.dta')\n",
    "cces2009df.to_csv(r'CCESData/cces09_cmn_output_2.csv')\n",
    "del(cces2009df)\n",
    "\n",
    "print(\"converting CCES 2010\")\n",
    "cces2010df = pd.read_stata('CCESData/CCES10_common_validated.dta')\n",
    "cces2010df.to_csv(r'CCESData/CCES10_common_validated.csv')\n",
    "del(cces2010df)\n",
    "\n",
    "print(\"converting ANES 2020\")\n",
    "anes2020df = pd.read_stata('ANESData/anes_timeseries_2020_stata_20210324.dta')\n",
    "anes2020df.to_csv(r'ANESData/anes_timeseries_2020_stata_20210324.csv')\n",
    "del(anes2020df)\n",
    "\n",
    "\n",
    "\n",
    "\"\"\"\n",
    "\n",
    "cces2009df = pd.read_stata('CCESData/cces09_cmn_output_2.dta')\n",
    "print(\"reading CCES 2010\")\n",
    "cces2010df = pd.read_stata('CCESData/CCES10_common_validated.dta')\n",
    "cces2011df = pd.read_stata('CCESData/CCES11_Common_OUTPUT.dta')\n",
    "print(\"reading CCES 2012\")\n",
    "cces2012df = pd.read_stata('CCESData/CCES12_Common_VV.dta')\n",
    "cces2013df = pd.read_stata('CCESData/CCES13_Common_Content_Data.dta')\n",
    "print(\"reading CCES 2014\")\n",
    "cces2014df = pd.read_stata('CCESData/CCES14_Common_Content_Validated.dta')\n",
    "cces2015df = pd.read_stata('CCESData/CCES15_Common_OUTPUT_Jan2016.dta')\n",
    "print(\"reading CCES 2016\")\n",
    "cces2016df = pd.read_stata('CCESData/CCES16_Common_OUTPUT_Feb2018_VV.dta')\n",
    "cces2017df = pd.read_stata('CCESData/CCES17_Common_Content_Data.dta')\n",
    "print(\"reading CCES 2018\")\n",
    "cces2018df = pd.read_stata('CCESData/cces18_common_vv.dta')\n",
    "cces2019df = pd.read_stata('CCESData/CCES19_Common_OUTPUT.dta')\n",
    "print(\"reading CCES 2020\")\n",
    "cces2020df = pd.read_stata('CCESData/CCES20_Common_OUTPUT.dta')\n",
    "\n",
    "\"\"\"\n",
    "\n"
   ]
  },
  {
   "cell_type": "code",
   "execution_count": 4,
   "id": "requested-distribution",
   "metadata": {},
   "outputs": [
    {
     "name": "stdout",
     "output_type": "stream",
     "text": [
      "converting ANES 2020\n"
     ]
    }
   ],
   "source": [
    "#Do only One Here, dopy and past from above:\n",
    "print(\"converting ANES 2020\")\n",
    "anes2020df = pd.read_stata('ANESData/anes_timeseries_2020_stata_20210324.dta')\n",
    "anes2020df.to_csv(r'ANESData/anes_timeseries_2020_stata_20210324.csv')\n",
    "del(anes2020df)"
   ]
  }
 ],
 "metadata": {
  "kernelspec": {
   "display_name": "Python 3",
   "language": "python",
   "name": "python3"
  },
  "language_info": {
   "codemirror_mode": {
    "name": "ipython",
    "version": 3
   },
   "file_extension": ".py",
   "mimetype": "text/x-python",
   "name": "python",
   "nbconvert_exporter": "python",
   "pygments_lexer": "ipython3",
   "version": "3.7.9"
  }
 },
 "nbformat": 4,
 "nbformat_minor": 5
}
